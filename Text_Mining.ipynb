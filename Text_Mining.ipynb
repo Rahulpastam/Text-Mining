{
  "cells": [
    {
      "cell_type": "markdown",
      "metadata": {
        "id": "view-in-github",
        "colab_type": "text"
      },
      "source": [
        "<a href=\"https://colab.research.google.com/github/Rahulpastam/Text-Mining/blob/main/Text_Mining.ipynb\" target=\"_parent\"><img src=\"https://colab.research.google.com/assets/colab-badge.svg\" alt=\"Open In Colab\"/></a>"
      ]
    },
    {
      "cell_type": "code",
      "source": [
        "#7th week sentiment analysis"
      ],
      "metadata": {
        "id": "iPLtbpKNfJqE"
      },
      "execution_count": null,
      "outputs": []
    },
    {
      "cell_type": "code",
      "execution_count": null,
      "metadata": {
        "colab": {
          "base_uri": "https://localhost:8080/"
        },
        "id": "5g-JSNFFNGBY",
        "outputId": "5f1d39d2-8b7c-4608-fc49-684f71bfb66b"
      },
      "outputs": [
        {
          "output_type": "stream",
          "name": "stderr",
          "text": [
            "[nltk_data] Downloading package stopwords to /root/nltk_data...\n",
            "[nltk_data]   Package stopwords is already up-to-date!\n"
          ]
        }
      ],
      "source": [
        "import nltk\n",
        "import re\n",
        "from nltk.corpus import stopwords\n",
        "from nltk.tokenize import word_tokenize\n",
        "\n",
        "REPLACE_BY_SPACE_RE = re.compile('[/(){}\\[\\]\\|@,;]')\n",
        "BAD_SYMBOLS_RE = re.compile('[^0-9a-z #+_]')\n",
        "nltk.download('stopwords')\n",
        "STOPWORDS =set(stopwords.words('english'))\n",
        "def clean_text(text):\n",
        "    text = re.sub('https://.*','',text)\n",
        "    text = REPLACE_BY_SPACE_RE.sub(' ', text)\n",
        "    text = BAD_SYMBOLS_RE.sub('', text)\n",
        "    text = ' '.join(word for word in text.split() if word not in STOPWORDS)\n",
        "    text = ' '.join(word for word in text.split() if not word.isdigit())\n",
        "    return text"
      ]
    },
    {
      "cell_type": "code",
      "execution_count": null,
      "metadata": {
        "collapsed": true,
        "id": "nrTSr6-ANoLw",
        "colab": {
          "base_uri": "https://localhost:8080/"
        },
        "outputId": "5e353b0e-28ff-4fb0-e829-3718d58d558c"
      },
      "outputs": [
        {
          "output_type": "execute_result",
          "data": {
            "text/plain": [
              "{'a',\n",
              " 'about',\n",
              " 'above',\n",
              " 'after',\n",
              " 'again',\n",
              " 'against',\n",
              " 'ain',\n",
              " 'all',\n",
              " 'am',\n",
              " 'an',\n",
              " 'and',\n",
              " 'any',\n",
              " 'are',\n",
              " 'aren',\n",
              " \"aren't\",\n",
              " 'as',\n",
              " 'at',\n",
              " 'be',\n",
              " 'because',\n",
              " 'been',\n",
              " 'before',\n",
              " 'being',\n",
              " 'below',\n",
              " 'between',\n",
              " 'both',\n",
              " 'but',\n",
              " 'by',\n",
              " 'can',\n",
              " 'couldn',\n",
              " \"couldn't\",\n",
              " 'd',\n",
              " 'did',\n",
              " 'didn',\n",
              " \"didn't\",\n",
              " 'do',\n",
              " 'does',\n",
              " 'doesn',\n",
              " \"doesn't\",\n",
              " 'doing',\n",
              " 'don',\n",
              " \"don't\",\n",
              " 'down',\n",
              " 'during',\n",
              " 'each',\n",
              " 'few',\n",
              " 'for',\n",
              " 'from',\n",
              " 'further',\n",
              " 'had',\n",
              " 'hadn',\n",
              " \"hadn't\",\n",
              " 'has',\n",
              " 'hasn',\n",
              " \"hasn't\",\n",
              " 'have',\n",
              " 'haven',\n",
              " \"haven't\",\n",
              " 'having',\n",
              " 'he',\n",
              " 'her',\n",
              " 'here',\n",
              " 'hers',\n",
              " 'herself',\n",
              " 'him',\n",
              " 'himself',\n",
              " 'his',\n",
              " 'how',\n",
              " 'i',\n",
              " 'if',\n",
              " 'in',\n",
              " 'into',\n",
              " 'is',\n",
              " 'isn',\n",
              " \"isn't\",\n",
              " 'it',\n",
              " \"it's\",\n",
              " 'its',\n",
              " 'itself',\n",
              " 'just',\n",
              " 'll',\n",
              " 'm',\n",
              " 'ma',\n",
              " 'me',\n",
              " 'mightn',\n",
              " \"mightn't\",\n",
              " 'more',\n",
              " 'most',\n",
              " 'mustn',\n",
              " \"mustn't\",\n",
              " 'my',\n",
              " 'myself',\n",
              " 'needn',\n",
              " \"needn't\",\n",
              " 'no',\n",
              " 'nor',\n",
              " 'not',\n",
              " 'now',\n",
              " 'o',\n",
              " 'of',\n",
              " 'off',\n",
              " 'on',\n",
              " 'once',\n",
              " 'only',\n",
              " 'or',\n",
              " 'other',\n",
              " 'our',\n",
              " 'ours',\n",
              " 'ourselves',\n",
              " 'out',\n",
              " 'over',\n",
              " 'own',\n",
              " 're',\n",
              " 's',\n",
              " 'same',\n",
              " 'shan',\n",
              " \"shan't\",\n",
              " 'she',\n",
              " \"she's\",\n",
              " 'should',\n",
              " \"should've\",\n",
              " 'shouldn',\n",
              " \"shouldn't\",\n",
              " 'so',\n",
              " 'some',\n",
              " 'such',\n",
              " 't',\n",
              " 'than',\n",
              " 'that',\n",
              " \"that'll\",\n",
              " 'the',\n",
              " 'their',\n",
              " 'theirs',\n",
              " 'them',\n",
              " 'themselves',\n",
              " 'then',\n",
              " 'there',\n",
              " 'these',\n",
              " 'they',\n",
              " 'this',\n",
              " 'those',\n",
              " 'through',\n",
              " 'to',\n",
              " 'too',\n",
              " 'under',\n",
              " 'until',\n",
              " 'up',\n",
              " 've',\n",
              " 'very',\n",
              " 'was',\n",
              " 'wasn',\n",
              " \"wasn't\",\n",
              " 'we',\n",
              " 'were',\n",
              " 'weren',\n",
              " \"weren't\",\n",
              " 'what',\n",
              " 'when',\n",
              " 'where',\n",
              " 'which',\n",
              " 'while',\n",
              " 'who',\n",
              " 'whom',\n",
              " 'why',\n",
              " 'will',\n",
              " 'with',\n",
              " 'won',\n",
              " \"won't\",\n",
              " 'wouldn',\n",
              " \"wouldn't\",\n",
              " 'y',\n",
              " 'you',\n",
              " \"you'd\",\n",
              " \"you'll\",\n",
              " \"you're\",\n",
              " \"you've\",\n",
              " 'your',\n",
              " 'yours',\n",
              " 'yourself',\n",
              " 'yourselves'}"
            ]
          },
          "metadata": {},
          "execution_count": 19
        }
      ],
      "source": [
        "STOPWORDS"
      ]
    },
    {
      "cell_type": "markdown",
      "metadata": {
        "id": "YxHgat3APe1k"
      },
      "source": [
        "sentiment analysis\n",
        "TFID - frequency of each gram\n",
        "1) traditional presesnt-1 absent-0\n",
        "2) imbedings - generating same vectors for same sentences"
      ]
    },
    {
      "cell_type": "code",
      "execution_count": null,
      "metadata": {
        "colab": {
          "base_uri": "https://localhost:8080/"
        },
        "collapsed": true,
        "id": "E3bWlYM5QRLp",
        "outputId": "f8b9d5cd-e541-47c9-c483-59d2afecbb26"
      },
      "outputs": [
        {
          "output_type": "stream",
          "name": "stderr",
          "text": [
            "[nltk_data] Downloading package wordnet to /root/nltk_data...\n",
            "[nltk_data]   Package wordnet is already up-to-date!\n"
          ]
        }
      ],
      "source": [
        "import nltk\n",
        "nltk.download('wordnet')\n",
        "w_tokenizer = nltk.tokenize.WhitespaceTokenizer()\n",
        "lemmatizer = nltk.stem.WordNetLemmatizer()\n",
        "def lemmatize_text(text):\n",
        "    return [lemmatizer.lemmatize(w) for w in w_tokenizer.tokenize(text)]\n",
        "\n",
        "from sklearn.model_selection import train_test_split\n",
        "\n",
        "\n",
        "import gensim\n",
        "import gensim.downloader as gensim_api\n",
        "nlp = gensim_api.load(\"glove-twitter-200\") #embed approach, trained on twitter data"
      ]
    },
    {
      "cell_type": "code",
      "execution_count": null,
      "metadata": {
        "id": "VEnXZEbZRCu1",
        "colab": {
          "base_uri": "https://localhost:8080/"
        },
        "outputId": "043a99a0-7e1b-4d8e-cb9e-361ef527f794"
      },
      "outputs": [
        {
          "output_type": "execute_result",
          "data": {
            "text/plain": [
              "True"
            ]
          },
          "metadata": {},
          "execution_count": 8
        }
      ],
      "source": [
        "\"nit\" in nlp"
      ]
    },
    {
      "cell_type": "code",
      "execution_count": null,
      "metadata": {
        "collapsed": true,
        "id": "Y1K8fxa7Scew",
        "colab": {
          "base_uri": "https://localhost:8080/"
        },
        "outputId": "ed87a35e-707b-4d3a-e6a6-96f580764951"
      },
      "outputs": [
        {
          "output_type": "execute_result",
          "data": {
            "text/plain": [
              "array([-5.8930e-01,  9.9817e-01, -1.3577e-01, -3.9979e-02,  5.2014e-02,\n",
              "        3.2142e-01,  2.1827e-01, -7.6270e-01, -2.2748e-01,  1.7208e-03,\n",
              "       -2.3528e-02, -2.2779e-01, -2.1229e-01,  4.3046e-01,  2.1287e-01,\n",
              "        3.8962e-01,  4.9335e-02, -1.5141e-01, -5.8360e-01,  1.7335e-01,\n",
              "       -1.2417e-01,  1.6370e-01,  1.2870e-01,  8.0931e-02,  1.2149e-01,\n",
              "       -6.1054e-02,  6.8072e-01,  2.0065e-01,  8.6763e-01,  5.4930e-01,\n",
              "       -3.1800e-01,  5.9790e-01,  2.7643e-01,  8.3966e-01, -2.6751e-01,\n",
              "        2.9863e-01, -4.9649e-01, -2.7550e-02, -4.4421e-01,  4.3828e-01,\n",
              "       -1.4045e-01,  1.8637e-02, -2.3636e-01,  4.6275e-01,  2.0127e-01,\n",
              "       -5.6266e-01,  3.1376e-01, -5.3536e-01, -5.0824e-02,  1.7789e-01,\n",
              "        3.0186e-01,  8.1011e-02,  8.1609e-01, -6.3654e-01,  7.5291e-02,\n",
              "        8.8669e-02,  3.8231e-01,  4.7762e-01,  1.4416e-01, -2.6933e-01,\n",
              "        6.4854e-01, -2.8478e-02,  1.8502e-01, -7.7590e-01, -1.1722e-01,\n",
              "        4.9499e-01, -4.0241e-01,  4.4025e-01, -6.9500e-01,  8.2798e-02,\n",
              "        2.8147e-01, -6.1665e-01, -1.3093e-01,  5.2036e-02, -1.6791e-01,\n",
              "       -2.0431e-01,  8.7590e-01, -4.2269e-01, -6.0630e-01, -2.9999e-02,\n",
              "        3.6493e-01, -2.4352e-01, -3.1656e-01, -3.5688e-02, -1.1021e-01,\n",
              "        2.8170e-01, -5.3134e-01, -7.6706e-02,  8.3928e-02, -4.3716e-01,\n",
              "        4.0676e-01,  2.2289e-01,  5.8902e-01,  4.4904e-01, -8.3888e-01,\n",
              "       -7.1054e-02,  3.1829e-01, -9.4388e-02,  5.6814e-01,  1.5130e-02,\n",
              "        2.1902e-01,  2.3964e-01,  1.3075e-01,  4.8927e-01, -1.0893e-01,\n",
              "        5.5178e-01, -1.1079e-01,  1.1602e-01,  6.0020e-01,  1.2844e-02,\n",
              "       -4.1323e-01, -2.3842e-01,  5.3933e-01,  1.2113e-01, -1.1065e-01,\n",
              "        2.1600e-01, -2.9188e-01,  1.4856e-01,  2.2286e-01, -8.7496e-02,\n",
              "       -2.5527e-01,  2.2249e-01,  3.8947e-01, -8.5556e-01, -2.0673e-01,\n",
              "        4.5873e-01, -5.5519e-01, -4.9633e-01, -4.6303e-01,  8.2234e-02,\n",
              "       -3.7730e-01,  2.3410e-01, -5.8179e-01,  5.1888e-01, -5.4729e-01,\n",
              "       -8.6097e-02, -8.5926e-01, -3.0464e-02,  1.8845e-01,  6.9556e-01,\n",
              "       -1.0713e-01,  6.3397e-01,  8.8888e-02,  2.9455e-01, -6.4420e-01,\n",
              "       -5.8593e-01, -2.1725e-02, -4.0852e-02,  3.5766e-01, -9.5038e-02,\n",
              "       -4.7488e-01,  1.5053e-01, -2.9560e+00,  1.3237e-01, -1.1256e-01,\n",
              "        2.5444e-01,  7.6895e-02, -2.0185e-01, -1.8278e-01,  2.8166e-01,\n",
              "        2.6113e-01, -5.2866e-01, -8.2708e-01,  3.8534e-01,  2.1699e-01,\n",
              "        7.8890e-01,  4.2971e-01,  1.4511e-01,  4.0976e-01,  3.8380e-01,\n",
              "        1.5295e-01,  5.0994e-01, -1.1848e-01, -3.4799e-01, -3.9814e-01,\n",
              "       -2.5769e-01, -1.1383e-01,  2.9821e-01,  3.3554e-01, -9.0528e-01,\n",
              "        3.4569e-02,  5.1484e-01,  4.3970e-01,  2.7242e-01, -2.1394e-01,\n",
              "       -6.2684e-01, -5.0188e-01,  2.2497e-01,  3.5130e-01,  3.6651e-01,\n",
              "        2.3438e-01, -4.2435e-02,  7.0959e-01, -4.3636e-01, -3.9416e-01,\n",
              "        5.2024e-01,  3.2507e-02,  2.9470e-01,  2.4460e-02, -4.8278e-01],\n",
              "      dtype=float32)"
            ]
          },
          "metadata": {},
          "execution_count": 9
        }
      ],
      "source": [
        "nlp[\"nit\"]"
      ]
    },
    {
      "cell_type": "markdown",
      "metadata": {
        "id": "EMHDQ-WbSr7h"
      },
      "source": [
        "1 gramms\n",
        "2 grams"
      ]
    },
    {
      "cell_type": "code",
      "execution_count": null,
      "metadata": {
        "id": "hjII_G3rW8Zb",
        "colab": {
          "base_uri": "https://localhost:8080/",
          "height": 206
        },
        "outputId": "9aac7cfe-bb8c-40b6-b13e-2d45831acc2b"
      },
      "outputs": [
        {
          "output_type": "execute_result",
          "data": {
            "text/plain": [
              "         selected_text sentiment\n",
              "0             sooo sad  negative\n",
              "1          leave alone  negative\n",
              "2                 sons  negative\n",
              "3                  fun  positive\n",
              "4  wow u became cooler  positive"
            ],
            "text/html": [
              "\n",
              "  <div id=\"df-9e130cf2-c2c2-4811-aa87-77d666164cee\" class=\"colab-df-container\">\n",
              "    <div>\n",
              "<style scoped>\n",
              "    .dataframe tbody tr th:only-of-type {\n",
              "        vertical-align: middle;\n",
              "    }\n",
              "\n",
              "    .dataframe tbody tr th {\n",
              "        vertical-align: top;\n",
              "    }\n",
              "\n",
              "    .dataframe thead th {\n",
              "        text-align: right;\n",
              "    }\n",
              "</style>\n",
              "<table border=\"1\" class=\"dataframe\">\n",
              "  <thead>\n",
              "    <tr style=\"text-align: right;\">\n",
              "      <th></th>\n",
              "      <th>selected_text</th>\n",
              "      <th>sentiment</th>\n",
              "    </tr>\n",
              "  </thead>\n",
              "  <tbody>\n",
              "    <tr>\n",
              "      <th>0</th>\n",
              "      <td>sooo sad</td>\n",
              "      <td>negative</td>\n",
              "    </tr>\n",
              "    <tr>\n",
              "      <th>1</th>\n",
              "      <td>leave alone</td>\n",
              "      <td>negative</td>\n",
              "    </tr>\n",
              "    <tr>\n",
              "      <th>2</th>\n",
              "      <td>sons</td>\n",
              "      <td>negative</td>\n",
              "    </tr>\n",
              "    <tr>\n",
              "      <th>3</th>\n",
              "      <td>fun</td>\n",
              "      <td>positive</td>\n",
              "    </tr>\n",
              "    <tr>\n",
              "      <th>4</th>\n",
              "      <td>wow u became cooler</td>\n",
              "      <td>positive</td>\n",
              "    </tr>\n",
              "  </tbody>\n",
              "</table>\n",
              "</div>\n",
              "    <div class=\"colab-df-buttons\">\n",
              "\n",
              "  <div class=\"colab-df-container\">\n",
              "    <button class=\"colab-df-convert\" onclick=\"convertToInteractive('df-9e130cf2-c2c2-4811-aa87-77d666164cee')\"\n",
              "            title=\"Convert this dataframe to an interactive table.\"\n",
              "            style=\"display:none;\">\n",
              "\n",
              "  <svg xmlns=\"http://www.w3.org/2000/svg\" height=\"24px\" viewBox=\"0 -960 960 960\">\n",
              "    <path d=\"M120-120v-720h720v720H120Zm60-500h600v-160H180v160Zm220 220h160v-160H400v160Zm0 220h160v-160H400v160ZM180-400h160v-160H180v160Zm440 0h160v-160H620v160ZM180-180h160v-160H180v160Zm440 0h160v-160H620v160Z\"/>\n",
              "  </svg>\n",
              "    </button>\n",
              "\n",
              "  <style>\n",
              "    .colab-df-container {\n",
              "      display:flex;\n",
              "      gap: 12px;\n",
              "    }\n",
              "\n",
              "    .colab-df-convert {\n",
              "      background-color: #E8F0FE;\n",
              "      border: none;\n",
              "      border-radius: 50%;\n",
              "      cursor: pointer;\n",
              "      display: none;\n",
              "      fill: #1967D2;\n",
              "      height: 32px;\n",
              "      padding: 0 0 0 0;\n",
              "      width: 32px;\n",
              "    }\n",
              "\n",
              "    .colab-df-convert:hover {\n",
              "      background-color: #E2EBFA;\n",
              "      box-shadow: 0px 1px 2px rgba(60, 64, 67, 0.3), 0px 1px 3px 1px rgba(60, 64, 67, 0.15);\n",
              "      fill: #174EA6;\n",
              "    }\n",
              "\n",
              "    .colab-df-buttons div {\n",
              "      margin-bottom: 4px;\n",
              "    }\n",
              "\n",
              "    [theme=dark] .colab-df-convert {\n",
              "      background-color: #3B4455;\n",
              "      fill: #D2E3FC;\n",
              "    }\n",
              "\n",
              "    [theme=dark] .colab-df-convert:hover {\n",
              "      background-color: #434B5C;\n",
              "      box-shadow: 0px 1px 3px 1px rgba(0, 0, 0, 0.15);\n",
              "      filter: drop-shadow(0px 1px 2px rgba(0, 0, 0, 0.3));\n",
              "      fill: #FFFFFF;\n",
              "    }\n",
              "  </style>\n",
              "\n",
              "    <script>\n",
              "      const buttonEl =\n",
              "        document.querySelector('#df-9e130cf2-c2c2-4811-aa87-77d666164cee button.colab-df-convert');\n",
              "      buttonEl.style.display =\n",
              "        google.colab.kernel.accessAllowed ? 'block' : 'none';\n",
              "\n",
              "      async function convertToInteractive(key) {\n",
              "        const element = document.querySelector('#df-9e130cf2-c2c2-4811-aa87-77d666164cee');\n",
              "        const dataTable =\n",
              "          await google.colab.kernel.invokeFunction('convertToInteractive',\n",
              "                                                    [key], {});\n",
              "        if (!dataTable) return;\n",
              "\n",
              "        const docLinkHtml = 'Like what you see? Visit the ' +\n",
              "          '<a target=\"_blank\" href=https://colab.research.google.com/notebooks/data_table.ipynb>data table notebook</a>'\n",
              "          + ' to learn more about interactive tables.';\n",
              "        element.innerHTML = '';\n",
              "        dataTable['output_type'] = 'display_data';\n",
              "        await google.colab.output.renderOutput(dataTable, element);\n",
              "        const docLink = document.createElement('div');\n",
              "        docLink.innerHTML = docLinkHtml;\n",
              "        element.appendChild(docLink);\n",
              "      }\n",
              "    </script>\n",
              "  </div>\n",
              "\n",
              "\n",
              "<div id=\"df-984fefa3-da0e-475a-ac90-ddf39058b33a\">\n",
              "  <button class=\"colab-df-quickchart\" onclick=\"quickchart('df-984fefa3-da0e-475a-ac90-ddf39058b33a')\"\n",
              "            title=\"Suggest charts\"\n",
              "            style=\"display:none;\">\n",
              "\n",
              "<svg xmlns=\"http://www.w3.org/2000/svg\" height=\"24px\"viewBox=\"0 0 24 24\"\n",
              "     width=\"24px\">\n",
              "    <g>\n",
              "        <path d=\"M19 3H5c-1.1 0-2 .9-2 2v14c0 1.1.9 2 2 2h14c1.1 0 2-.9 2-2V5c0-1.1-.9-2-2-2zM9 17H7v-7h2v7zm4 0h-2V7h2v10zm4 0h-2v-4h2v4z\"/>\n",
              "    </g>\n",
              "</svg>\n",
              "  </button>\n",
              "\n",
              "<style>\n",
              "  .colab-df-quickchart {\n",
              "      --bg-color: #E8F0FE;\n",
              "      --fill-color: #1967D2;\n",
              "      --hover-bg-color: #E2EBFA;\n",
              "      --hover-fill-color: #174EA6;\n",
              "      --disabled-fill-color: #AAA;\n",
              "      --disabled-bg-color: #DDD;\n",
              "  }\n",
              "\n",
              "  [theme=dark] .colab-df-quickchart {\n",
              "      --bg-color: #3B4455;\n",
              "      --fill-color: #D2E3FC;\n",
              "      --hover-bg-color: #434B5C;\n",
              "      --hover-fill-color: #FFFFFF;\n",
              "      --disabled-bg-color: #3B4455;\n",
              "      --disabled-fill-color: #666;\n",
              "  }\n",
              "\n",
              "  .colab-df-quickchart {\n",
              "    background-color: var(--bg-color);\n",
              "    border: none;\n",
              "    border-radius: 50%;\n",
              "    cursor: pointer;\n",
              "    display: none;\n",
              "    fill: var(--fill-color);\n",
              "    height: 32px;\n",
              "    padding: 0;\n",
              "    width: 32px;\n",
              "  }\n",
              "\n",
              "  .colab-df-quickchart:hover {\n",
              "    background-color: var(--hover-bg-color);\n",
              "    box-shadow: 0 1px 2px rgba(60, 64, 67, 0.3), 0 1px 3px 1px rgba(60, 64, 67, 0.15);\n",
              "    fill: var(--button-hover-fill-color);\n",
              "  }\n",
              "\n",
              "  .colab-df-quickchart-complete:disabled,\n",
              "  .colab-df-quickchart-complete:disabled:hover {\n",
              "    background-color: var(--disabled-bg-color);\n",
              "    fill: var(--disabled-fill-color);\n",
              "    box-shadow: none;\n",
              "  }\n",
              "\n",
              "  .colab-df-spinner {\n",
              "    border: 2px solid var(--fill-color);\n",
              "    border-color: transparent;\n",
              "    border-bottom-color: var(--fill-color);\n",
              "    animation:\n",
              "      spin 1s steps(1) infinite;\n",
              "  }\n",
              "\n",
              "  @keyframes spin {\n",
              "    0% {\n",
              "      border-color: transparent;\n",
              "      border-bottom-color: var(--fill-color);\n",
              "      border-left-color: var(--fill-color);\n",
              "    }\n",
              "    20% {\n",
              "      border-color: transparent;\n",
              "      border-left-color: var(--fill-color);\n",
              "      border-top-color: var(--fill-color);\n",
              "    }\n",
              "    30% {\n",
              "      border-color: transparent;\n",
              "      border-left-color: var(--fill-color);\n",
              "      border-top-color: var(--fill-color);\n",
              "      border-right-color: var(--fill-color);\n",
              "    }\n",
              "    40% {\n",
              "      border-color: transparent;\n",
              "      border-right-color: var(--fill-color);\n",
              "      border-top-color: var(--fill-color);\n",
              "    }\n",
              "    60% {\n",
              "      border-color: transparent;\n",
              "      border-right-color: var(--fill-color);\n",
              "    }\n",
              "    80% {\n",
              "      border-color: transparent;\n",
              "      border-right-color: var(--fill-color);\n",
              "      border-bottom-color: var(--fill-color);\n",
              "    }\n",
              "    90% {\n",
              "      border-color: transparent;\n",
              "      border-bottom-color: var(--fill-color);\n",
              "    }\n",
              "  }\n",
              "</style>\n",
              "\n",
              "  <script>\n",
              "    async function quickchart(key) {\n",
              "      const quickchartButtonEl =\n",
              "        document.querySelector('#' + key + ' button');\n",
              "      quickchartButtonEl.disabled = true;  // To prevent multiple clicks.\n",
              "      quickchartButtonEl.classList.add('colab-df-spinner');\n",
              "      try {\n",
              "        const charts = await google.colab.kernel.invokeFunction(\n",
              "            'suggestCharts', [key], {});\n",
              "      } catch (error) {\n",
              "        console.error('Error during call to suggestCharts:', error);\n",
              "      }\n",
              "      quickchartButtonEl.classList.remove('colab-df-spinner');\n",
              "      quickchartButtonEl.classList.add('colab-df-quickchart-complete');\n",
              "    }\n",
              "    (() => {\n",
              "      let quickchartButtonEl =\n",
              "        document.querySelector('#df-984fefa3-da0e-475a-ac90-ddf39058b33a button');\n",
              "      quickchartButtonEl.style.display =\n",
              "        google.colab.kernel.accessAllowed ? 'block' : 'none';\n",
              "    })();\n",
              "  </script>\n",
              "</div>\n",
              "\n",
              "    </div>\n",
              "  </div>\n"
            ],
            "application/vnd.google.colaboratory.intrinsic+json": {
              "type": "dataframe",
              "variable_name": "data",
              "summary": "{\n  \"name\": \"data\",\n  \"rows\": 15445,\n  \"fields\": [\n    {\n      \"column\": \"selected_text\",\n      \"properties\": {\n        \"dtype\": \"string\",\n        \"num_unique_values\": 7976,\n        \"samples\": [\n          \"aww hope fly jt episodes usually really good early far ep hassnt disappointed\",\n          \"total love\",\n          \"never bad\"\n        ],\n        \"semantic_type\": \"\",\n        \"description\": \"\"\n      }\n    },\n    {\n      \"column\": \"sentiment\",\n      \"properties\": {\n        \"dtype\": \"category\",\n        \"num_unique_values\": 2,\n        \"samples\": [\n          \"positive\",\n          \"negative\"\n        ],\n        \"semantic_type\": \"\",\n        \"description\": \"\"\n      }\n    }\n  ]\n}"
            }
          },
          "metadata": {},
          "execution_count": 10
        }
      ],
      "source": [
        "import pandas as pd\n",
        "import numpy as np\n",
        "data = pd.read_csv('train_clean1.csv')\n",
        "data.head()"
      ]
    },
    {
      "cell_type": "code",
      "execution_count": null,
      "metadata": {
        "collapsed": true,
        "id": "Tx-OjrZuXSaR"
      },
      "outputs": [],
      "source": [
        "data['sentiment'].value_counts()\n",
        "data['selected_text']=data['selected_text'].str.lower()\n",
        "data['selected_text'] = data['selected_text'].apply(clean_text)\n",
        "data['selected_text'] = data['selected_text'].apply(lemmatize_text)"
      ]
    },
    {
      "cell_type": "code",
      "execution_count": null,
      "metadata": {
        "id": "91drpz9OXWMX",
        "colab": {
          "base_uri": "https://localhost:8080/"
        },
        "outputId": "17320e6d-3e50-49aa-9cb6-ee04a1d59c3d"
      },
      "outputs": [
        {
          "output_type": "execute_result",
          "data": {
            "text/plain": [
              "(15445, 500)"
            ]
          },
          "metadata": {},
          "execution_count": 12
        }
      ],
      "source": [
        "from sklearn.feature_extraction.text import TfidfVectorizer\n",
        "tfidf = TfidfVectorizer(max_features=500,ngram_range = (1,2))\n",
        "tfidf.fit(data['selected_text'].astype(str))\n",
        "x_trdata=tfidf.transform(data['selected_text'].astype(str))\n",
        "df_tfidf = pd.DataFrame(x_trdata.toarray())\n",
        "x_trdata=np.array(df_tfidf)\n",
        "np.shape(x_trdata)"
      ]
    },
    {
      "cell_type": "code",
      "execution_count": null,
      "metadata": {
        "id": "NZaYVRNxYbqW"
      },
      "outputs": [],
      "source": [
        "from sklearn.preprocessing import LabelEncoder\n",
        "labels = data['sentiment'].values\n",
        "encoder = LabelEncoder()\n",
        "encoded_labels = encoder.fit_transform(labels)"
      ]
    },
    {
      "cell_type": "code",
      "execution_count": null,
      "metadata": {
        "id": "fkb9dvLdYQr7"
      },
      "outputs": [],
      "source": [
        "\n",
        "from scipy import stats\n",
        "def rst(data,lab):\n",
        "  in1=np.where(lab==0)\n",
        "  in2=np.where(lab==1)\n",
        "  pv=np.zeros((np.shape(data)[1]))\n",
        "  for i in range(0,np.shape(data)[1]):\n",
        "    fv=data[:,i]\n",
        "    fv0=fv[in1[0]]\n",
        "    fv1=fv[in2[0]]\n",
        "    rs,pv[i]=stats.ranksums(fv0,fv1)\n",
        "  return pv"
      ]
    },
    {
      "cell_type": "code",
      "execution_count": null,
      "metadata": {
        "id": "l3VDFJ8UYlOh"
      },
      "outputs": [],
      "source": [
        "pv=rst(x_trdata,encoded_labels)\n",
        "in1=np.where(pv<=0.05)\n",
        "datan=[]\n",
        "datan.append(x_trdata)\n",
        "datan.append(x_trdata[:,in1[0]])"
      ]
    },
    {
      "cell_type": "code",
      "execution_count": null,
      "metadata": {
        "id": "Y1j9Hp8mZRL-"
      },
      "outputs": [],
      "source": [
        "from sklearn.model_selection import KFold\n",
        "kf=KFold(2)"
      ]
    },
    {
      "cell_type": "code",
      "source": [
        "from sklearn.preprocessing import MinMaxScaler\n",
        "def normalizedata(X_train):\n",
        "    scaler = MinMaxScaler()\n",
        "    scaler.fit(X_train)\n",
        "    X_train = scaler.transform(X_train)\n",
        "    return X_train"
      ],
      "metadata": {
        "id": "5AKIayxAdnKP"
      },
      "execution_count": null,
      "outputs": []
    },
    {
      "cell_type": "code",
      "source": [
        "def final_model(data):\n",
        "  model=[]\n",
        "  model.append(MultinomialNB())\n",
        "  model.append(BernoulliNB())\n",
        "  model.append(GaussianNB())\n",
        "  model.append(LogisticRegression())\n",
        "  model.append(DecisionTreeClassifier())\n",
        "  model.append(svm.SVC(kernel = \"linear\"))\n",
        "  model.append(svm.SVC(kernel = \"poly\"))\n",
        "  model.append(svm.SVC(kernel = \"rbf\"))\n",
        "  model.append(KNeighborsClassifier())\n",
        "  return model"
      ],
      "metadata": {
        "id": "H2lHmvPvdt3V"
      },
      "execution_count": null,
      "outputs": []
    },
    {
      "cell_type": "code",
      "source": [
        "import pandas as pd\n",
        "import numpy as np\n",
        "from scipy.stats import ranksums\n",
        "from sklearn.naive_bayes import MultinomialNB\n",
        "from sklearn.naive_bayes import BernoulliNB\n",
        "from sklearn.naive_bayes import GaussianNB\n",
        "from sklearn.linear_model import LogisticRegression\n",
        "from sklearn.neighbors import KNeighborsClassifier\n",
        "from sklearn.tree import DecisionTreeClassifier\n",
        "from sklearn import svm\n",
        "from sklearn.preprocessing import MinMaxScaler\n",
        "from sklearn.metrics import accuracy_score\n",
        "from matplotlib import pyplot\n",
        "\n",
        "def normalizedata(X_train):\n",
        "    scaler = MinMaxScaler()\n",
        "    scaler.fit(X_train)\n",
        "    X_train = scaler.transform(X_train)\n",
        "    return X_train"
      ],
      "metadata": {
        "id": "QCWmjbI2eOcb"
      },
      "execution_count": null,
      "outputs": []
    },
    {
      "cell_type": "code",
      "execution_count": null,
      "metadata": {
        "id": "sPE3pvWXZEud"
      },
      "outputs": [],
      "source": [
        "from sklearn.model_selection import KFold\n",
        "kf=KFold(2)\n",
        "from sklearn.metrics import accuracy_score\n",
        "acc=np.zeros((2,9))\n",
        "for i in range(0,2):\n",
        "  dataf=datan[i]\n",
        "  dataf=normalizedata(dataf)\n",
        "  model=final_model(dataf)\n",
        "  pred=np.zeros((np.shape(data)[0],10))\n",
        "  for train_index, test_index in kf.split(dataf):\n",
        "    trdata=dataf[train_index,:]\n",
        "    tsdata=dataf[test_index,:]\n",
        "    tract=encoded_labels[train_index]\n",
        "    tsact=encoded_labels[test_index]\n",
        "    for j in range(0,9):\n",
        "      model[j].fit(trdata,tract)\n",
        "      pred[test_index,j]=model[j].predict(tsdata)\n",
        "    pred[test_index,-1] = tsact\n",
        "  for j in range(0,9):\n",
        "    acc[i,j]=accuracy_score(pred[:,j],pred[:,-1])\n"
      ]
    },
    {
      "cell_type": "code",
      "source": [],
      "metadata": {
        "id": "Gtu94DolcLPj"
      },
      "execution_count": null,
      "outputs": []
    },
    {
      "cell_type": "code",
      "source": [],
      "metadata": {
        "id": "XuwZNuALcLcE"
      },
      "execution_count": null,
      "outputs": []
    },
    {
      "cell_type": "code",
      "source": [
        "def gloveemb(nlp,test):\n",
        "  emb=np.zeros((len(test),200))\n",
        "  for i in range(len(test)):\n",
        "    a=[]\n",
        "    for tx in test[i]:\n",
        "      if tx in nlp:\n",
        "        a.append(nlp[tx])\n",
        "    if len(a)>0:\n",
        "      emb[i,:]=np.mean(a,axis=0)\n",
        "  return emb"
      ],
      "metadata": {
        "id": "s09tV5ZlcLwl"
      },
      "execution_count": null,
      "outputs": []
    },
    {
      "cell_type": "markdown",
      "source": [
        "execute and store output acc\n",
        "2 acc - embeddings and tfid  \n",
        "submit CC VALUES\n",
        "\n",
        "-- how to deploy this ml model"
      ],
      "metadata": {
        "id": "tiD9nawFcvqy"
      }
    },
    {
      "cell_type": "code",
      "source": [],
      "metadata": {
        "id": "4VkoUIpAcvbO"
      },
      "execution_count": null,
      "outputs": []
    }
  ],
  "metadata": {
    "colab": {
      "provenance": [],
      "authorship_tag": "ABX9TyPUAxiBOeJpPGP5PeF/O8Zk",
      "include_colab_link": true
    },
    "kernelspec": {
      "display_name": "Python 3",
      "name": "python3"
    },
    "language_info": {
      "name": "python"
    }
  },
  "nbformat": 4,
  "nbformat_minor": 0
}